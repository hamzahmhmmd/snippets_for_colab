{
  "nbformat": 4,
  "nbformat_minor": 0,
  "metadata": {
    "colab": {
      "name": "custom_snippets_for_colab_and_jupyternotebook.ipynb",
      "provenance": [],
      "toc_visible": true,
      "authorship_tag": "ABX9TyPDfclqbwu55HvNvHVM64yv",
      "include_colab_link": true
    },
    "kernelspec": {
      "name": "python3",
      "display_name": "Python 3"
    }
  },
  "cells": [
    {
      "cell_type": "markdown",
      "metadata": {
        "id": "view-in-github",
        "colab_type": "text"
      },
      "source": [
        "<a href=\"https://colab.research.google.com/github/hamzahmhmmd/snippets_for_colab/blob/main/custom_snippets_for_colab_and_jupyternotebook.ipynb\" target=\"_parent\"><img src=\"https://colab.research.google.com/assets/colab-badge.svg\" alt=\"Open In Colab\"/></a>"
      ]
    },
    {
      "cell_type": "markdown",
      "metadata": {
        "id": "yAALIeiPgjy1"
      },
      "source": [
        "# Open in colab\n",
        "<a href=\"https://colab.research.google.com/github/hamzahmhmmd/snippets_for_colab/blob/main/custom_snippets_for_colab_and_jupyternotebook.ipynb\" target=\"_parent\"><img src=\"https://colab.research.google.com/assets/colab-badge.svg\" alt=\"Open In Colab\"/></a>"
      ]
    },
    {
      "cell_type": "code",
      "metadata": {
        "id": "xfkA2fi4gnyW"
      },
      "source": [
        "<a href=\"https://colab.research.google.com/github/hamzahmhmmd/snippets_for_colab/blob/main/custom_snippets_for_colab_and_jupyternotebook.ipynb\" target=\"_parent\"><img src=\"https://colab.research.google.com/assets/colab-badge.svg\" alt=\"Open In Colab\"/></a>"
      ],
      "execution_count": null,
      "outputs": []
    },
    {
      "cell_type": "markdown",
      "metadata": {
        "id": "vHIB5S5kEU3k"
      },
      "source": [
        "# Http server webapp"
      ]
    },
    {
      "cell_type": "code",
      "metadata": {
        "id": "5PXakhVgCSun"
      },
      "source": [
        "from google.colab.output import eval_js\n",
        "eval_js('google.colab.kernel.proxyPort(8000)')"
      ],
      "execution_count": null,
      "outputs": []
    },
    {
      "cell_type": "code",
      "metadata": {
        "id": "sZaVyhaxEDs4"
      },
      "source": [
        "! python -m http.server 8000"
      ],
      "execution_count": null,
      "outputs": []
    },
    {
      "cell_type": "markdown",
      "metadata": {
        "id": "wacBkieaEu3U"
      },
      "source": [
        "# Flask ngrok webapp"
      ]
    },
    {
      "cell_type": "code",
      "metadata": {
        "id": "bfM6_TFuE6yI"
      },
      "source": [
        "!pip install flask-ngrok"
      ],
      "execution_count": null,
      "outputs": []
    },
    {
      "cell_type": "code",
      "metadata": {
        "id": "6moB0DSCE9qI"
      },
      "source": [
        "# flask_ngrok_example.py\n",
        "from flask import Flask\n",
        "from flask_ngrok import run_with_ngrok\n",
        "\n",
        "app = Flask(__name__)\n",
        "run_with_ngrok(app)  # Start ngrok when app is run\n",
        "\n",
        "@app.route(\"/\")\n",
        "def hello():\n",
        "    return \"Hello World!\"\n",
        "\n",
        "if __name__ == '__main__':\n",
        "    app.run()  # If address is in use, may need to terminate other sessions:\n",
        "               # Runtime > Manage Sessions > Terminate Other Sessions"
      ],
      "execution_count": null,
      "outputs": []
    },
    {
      "cell_type": "markdown",
      "metadata": {
        "id": "DvBmQ-vnFXBn"
      },
      "source": [
        "# Add more RAM \n",
        "[increased notebook 1](https://colab.research.google.com/drive/1EgxSYbpi0mOkIXFsUQuFdnawwsAirl-T?usp=sharing)\n",
        "[increased notebook 2](https://colab.research.google.com/drive/1GqZu6zmCy2vMNMZqO78DDuHvwv_9vJcp?usp=sharing)"
      ]
    },
    {
      "cell_type": "code",
      "metadata": {
        "id": "LFX8iFu9VtiQ"
      },
      "source": [
        "https://colab.research.google.com/drive/1EgxSYbpi0mOkIXFsUQuFdnawwsAirl-T?usp=sharing\n",
        "https://colab.research.google.com/drive/1GqZu6zmCy2vMNMZqO78DDuHvwv_9vJcp?usp=sharing"
      ],
      "execution_count": null,
      "outputs": []
    },
    {
      "cell_type": "markdown",
      "metadata": {
        "id": "EhKpO-EGZq2P"
      },
      "source": [
        "# Longer session"
      ]
    },
    {
      "cell_type": "code",
      "metadata": {
        "id": "NGDW1b7qZwzX"
      },
      "source": [
        "# write this javasctipt on developer console\n",
        "# function KeepClicking(){\n",
        "#    console.log(\"Clicking\");\n",
        "#    document.querySelector(\"colab-toolbar-button#connect\").click()\n",
        "# }setInterval(KeepClicking,60000)"
      ],
      "execution_count": null,
      "outputs": []
    },
    {
      "cell_type": "markdown",
      "metadata": {
        "id": "x-UKy15kFm7v"
      },
      "source": [
        "# Install Miniconda"
      ]
    },
    {
      "cell_type": "code",
      "metadata": {
        "id": "DqPcpskDFqaR"
      },
      "source": [
        "! wget https://repo.anaconda.com/miniconda/Miniconda3-py37_4.8.2-Linux-x86_64.sh\n",
        "! chmod +x Miniconda3-py37_4.8.2-Linux-x86_64.sh\n",
        "! bash ./Miniconda3-py37_4.8.2-Linux-x86_64.sh -b -f -p /usr/local\n",
        "import sys\n",
        "sys.path.append('/usr/local/lib/python3.7/site-packages/')"
      ],
      "execution_count": null,
      "outputs": []
    },
    {
      "cell_type": "code",
      "metadata": {
        "id": "hhVQpH_7STCx"
      },
      "source": [
        "! conda install -c rdkit rdkit -y"
      ],
      "execution_count": null,
      "outputs": []
    },
    {
      "cell_type": "markdown",
      "metadata": {
        "id": "aPqX9KdwE-Vf"
      },
      "source": [
        "# R magic command"
      ]
    },
    {
      "cell_type": "code",
      "metadata": {
        "id": "9QZOvg8nFZD-"
      },
      "source": [
        "# activate R magic\n",
        "%load_ext rpy2.ipython"
      ],
      "execution_count": null,
      "outputs": []
    },
    {
      "cell_type": "code",
      "metadata": {
        "id": "zOZaGQ3gR6ng"
      },
      "source": [
        "%%R\n",
        "x <- 42\n",
        "print(x)"
      ],
      "execution_count": null,
      "outputs": []
    },
    {
      "cell_type": "markdown",
      "metadata": {
        "id": "uirnH_ehZDlF"
      },
      "source": [
        "# Delete pandas dataframe"
      ]
    },
    {
      "cell_type": "code",
      "metadata": {
        "id": "oHDmVgmNW_f-",
        "outputId": "5b6ea219-bbe5-453d-deed-048251019ec0",
        "colab": {
          "base_uri": "https://localhost:8080/"
        }
      },
      "source": [
        "import gc\n",
        "import pandas as pd\n",
        "\n",
        "df = pd.read_csv('sample_data/mnist_test.csv')\n",
        "\n",
        "# hapus dataframe df\n",
        "del df\n",
        "gc.collect()"
      ],
      "execution_count": null,
      "outputs": [
        {
          "output_type": "execute_result",
          "data": {
            "text/plain": [
              "144"
            ]
          },
          "metadata": {
            "tags": []
          },
          "execution_count": 4
        }
      ]
    },
    {
      "cell_type": "markdown",
      "metadata": {
        "id": "hyXH0qZ4Pjy8"
      },
      "source": [
        "# Pandas styling"
      ]
    },
    {
      "cell_type": "code",
      "metadata": {
        "id": "RTpp3c3T9FUz",
        "outputId": "07678d73-1b05-4e9a-89ce-dfee3ee76a8c",
        "colab": {
          "base_uri": "https://localhost:8080/",
          "height": 145
        }
      },
      "source": [
        "import numpy as np\n",
        "import pandas as pd\n",
        "\n",
        "def color_negative_red(val):\n",
        "  color = 'red' if val < 0 else 'black'\n",
        "  return 'color: %s' % color\n",
        "\n",
        "df = pd.DataFrame(np.random.randn(5, 3))\n",
        "\n",
        "df.style.applymap(color_negative_red)"
      ],
      "execution_count": 18,
      "outputs": [
        {
          "output_type": "execute_result",
          "data": {
            "text/html": [
              "<style  type=\"text/css\" >\n",
              "#T_4ad3bf68_28bd_11eb_b976_0242ac1c0002row0_col0,#T_4ad3bf68_28bd_11eb_b976_0242ac1c0002row0_col1,#T_4ad3bf68_28bd_11eb_b976_0242ac1c0002row1_col0,#T_4ad3bf68_28bd_11eb_b976_0242ac1c0002row1_col1,#T_4ad3bf68_28bd_11eb_b976_0242ac1c0002row2_col1,#T_4ad3bf68_28bd_11eb_b976_0242ac1c0002row4_col0,#T_4ad3bf68_28bd_11eb_b976_0242ac1c0002row4_col1,#T_4ad3bf68_28bd_11eb_b976_0242ac1c0002row4_col2{\n",
              "            color:  red;\n",
              "        }#T_4ad3bf68_28bd_11eb_b976_0242ac1c0002row0_col2,#T_4ad3bf68_28bd_11eb_b976_0242ac1c0002row1_col2,#T_4ad3bf68_28bd_11eb_b976_0242ac1c0002row2_col0,#T_4ad3bf68_28bd_11eb_b976_0242ac1c0002row2_col2,#T_4ad3bf68_28bd_11eb_b976_0242ac1c0002row3_col0,#T_4ad3bf68_28bd_11eb_b976_0242ac1c0002row3_col1,#T_4ad3bf68_28bd_11eb_b976_0242ac1c0002row3_col2{\n",
              "            color:  black;\n",
              "        }</style><table id=\"T_4ad3bf68_28bd_11eb_b976_0242ac1c0002\" ><thead>    <tr>        <th class=\"blank level0\" ></th>        <th class=\"col_heading level0 col0\" >0</th>        <th class=\"col_heading level0 col1\" >1</th>        <th class=\"col_heading level0 col2\" >2</th>    </tr></thead><tbody>\n",
              "                <tr>\n",
              "                        <th id=\"T_4ad3bf68_28bd_11eb_b976_0242ac1c0002level0_row0\" class=\"row_heading level0 row0\" >0</th>\n",
              "                        <td id=\"T_4ad3bf68_28bd_11eb_b976_0242ac1c0002row0_col0\" class=\"data row0 col0\" >-1.032492</td>\n",
              "                        <td id=\"T_4ad3bf68_28bd_11eb_b976_0242ac1c0002row0_col1\" class=\"data row0 col1\" >-0.526202</td>\n",
              "                        <td id=\"T_4ad3bf68_28bd_11eb_b976_0242ac1c0002row0_col2\" class=\"data row0 col2\" >0.100660</td>\n",
              "            </tr>\n",
              "            <tr>\n",
              "                        <th id=\"T_4ad3bf68_28bd_11eb_b976_0242ac1c0002level0_row1\" class=\"row_heading level0 row1\" >1</th>\n",
              "                        <td id=\"T_4ad3bf68_28bd_11eb_b976_0242ac1c0002row1_col0\" class=\"data row1 col0\" >-0.872128</td>\n",
              "                        <td id=\"T_4ad3bf68_28bd_11eb_b976_0242ac1c0002row1_col1\" class=\"data row1 col1\" >-1.425704</td>\n",
              "                        <td id=\"T_4ad3bf68_28bd_11eb_b976_0242ac1c0002row1_col2\" class=\"data row1 col2\" >0.113233</td>\n",
              "            </tr>\n",
              "            <tr>\n",
              "                        <th id=\"T_4ad3bf68_28bd_11eb_b976_0242ac1c0002level0_row2\" class=\"row_heading level0 row2\" >2</th>\n",
              "                        <td id=\"T_4ad3bf68_28bd_11eb_b976_0242ac1c0002row2_col0\" class=\"data row2 col0\" >0.326361</td>\n",
              "                        <td id=\"T_4ad3bf68_28bd_11eb_b976_0242ac1c0002row2_col1\" class=\"data row2 col1\" >-0.316787</td>\n",
              "                        <td id=\"T_4ad3bf68_28bd_11eb_b976_0242ac1c0002row2_col2\" class=\"data row2 col2\" >0.265819</td>\n",
              "            </tr>\n",
              "            <tr>\n",
              "                        <th id=\"T_4ad3bf68_28bd_11eb_b976_0242ac1c0002level0_row3\" class=\"row_heading level0 row3\" >3</th>\n",
              "                        <td id=\"T_4ad3bf68_28bd_11eb_b976_0242ac1c0002row3_col0\" class=\"data row3 col0\" >0.421553</td>\n",
              "                        <td id=\"T_4ad3bf68_28bd_11eb_b976_0242ac1c0002row3_col1\" class=\"data row3 col1\" >0.660736</td>\n",
              "                        <td id=\"T_4ad3bf68_28bd_11eb_b976_0242ac1c0002row3_col2\" class=\"data row3 col2\" >0.840090</td>\n",
              "            </tr>\n",
              "            <tr>\n",
              "                        <th id=\"T_4ad3bf68_28bd_11eb_b976_0242ac1c0002level0_row4\" class=\"row_heading level0 row4\" >4</th>\n",
              "                        <td id=\"T_4ad3bf68_28bd_11eb_b976_0242ac1c0002row4_col0\" class=\"data row4 col0\" >-0.369980</td>\n",
              "                        <td id=\"T_4ad3bf68_28bd_11eb_b976_0242ac1c0002row4_col1\" class=\"data row4 col1\" >-0.157100</td>\n",
              "                        <td id=\"T_4ad3bf68_28bd_11eb_b976_0242ac1c0002row4_col2\" class=\"data row4 col2\" >-2.106528</td>\n",
              "            </tr>\n",
              "    </tbody></table>"
            ],
            "text/plain": [
              "<pandas.io.formats.style.Styler at 0x7f3b001d00b8>"
            ]
          },
          "metadata": {
            "tags": []
          },
          "execution_count": 18
        }
      ]
    },
    {
      "cell_type": "code",
      "metadata": {
        "id": "5VbTMJR1rN0i",
        "outputId": "de1e1e92-86a7-47d1-c978-6a122f400cc7",
        "colab": {
          "base_uri": "https://localhost:8080/",
          "height": 145
        }
      },
      "source": [
        "df.style.bar(color='#d65f5f')"
      ],
      "execution_count": 15,
      "outputs": [
        {
          "output_type": "execute_result",
          "data": {
            "text/html": [
              "<style  type=\"text/css\" >\n",
              "#T_f5794484_28bc_11eb_b976_0242ac1c0002row0_col0,#T_f5794484_28bc_11eb_b976_0242ac1c0002row0_col2,#T_f5794484_28bc_11eb_b976_0242ac1c0002row2_col1{\n",
              "            width:  10em;\n",
              "             height:  80%;\n",
              "            background:  linear-gradient(90deg,#d65f5f 100.0%, transparent 100.0%);\n",
              "        }#T_f5794484_28bc_11eb_b976_0242ac1c0002row0_col1{\n",
              "            width:  10em;\n",
              "             height:  80%;\n",
              "            background:  linear-gradient(90deg,#d65f5f 73.4%, transparent 73.4%);\n",
              "        }#T_f5794484_28bc_11eb_b976_0242ac1c0002row1_col0{\n",
              "            width:  10em;\n",
              "             height:  80%;\n",
              "            background:  linear-gradient(90deg,#d65f5f 61.6%, transparent 61.6%);\n",
              "        }#T_f5794484_28bc_11eb_b976_0242ac1c0002row1_col1{\n",
              "            width:  10em;\n",
              "             height:  80%;\n",
              "            background:  linear-gradient(90deg,#d65f5f 40.5%, transparent 40.5%);\n",
              "        }#T_f5794484_28bc_11eb_b976_0242ac1c0002row1_col2,#T_f5794484_28bc_11eb_b976_0242ac1c0002row3_col1,#T_f5794484_28bc_11eb_b976_0242ac1c0002row4_col0{\n",
              "            width:  10em;\n",
              "             height:  80%;\n",
              "        }#T_f5794484_28bc_11eb_b976_0242ac1c0002row2_col0{\n",
              "            width:  10em;\n",
              "             height:  80%;\n",
              "            background:  linear-gradient(90deg,#d65f5f 95.6%, transparent 95.6%);\n",
              "        }#T_f5794484_28bc_11eb_b976_0242ac1c0002row2_col2{\n",
              "            width:  10em;\n",
              "             height:  80%;\n",
              "            background:  linear-gradient(90deg,#d65f5f 59.2%, transparent 59.2%);\n",
              "        }#T_f5794484_28bc_11eb_b976_0242ac1c0002row3_col0{\n",
              "            width:  10em;\n",
              "             height:  80%;\n",
              "            background:  linear-gradient(90deg,#d65f5f 74.7%, transparent 74.7%);\n",
              "        }#T_f5794484_28bc_11eb_b976_0242ac1c0002row3_col2{\n",
              "            width:  10em;\n",
              "             height:  80%;\n",
              "            background:  linear-gradient(90deg,#d65f5f 86.0%, transparent 86.0%);\n",
              "        }#T_f5794484_28bc_11eb_b976_0242ac1c0002row4_col1{\n",
              "            width:  10em;\n",
              "             height:  80%;\n",
              "            background:  linear-gradient(90deg,#d65f5f 66.5%, transparent 66.5%);\n",
              "        }#T_f5794484_28bc_11eb_b976_0242ac1c0002row4_col2{\n",
              "            width:  10em;\n",
              "             height:  80%;\n",
              "            background:  linear-gradient(90deg,#d65f5f 20.0%, transparent 20.0%);\n",
              "        }</style><table id=\"T_f5794484_28bc_11eb_b976_0242ac1c0002\" ><thead>    <tr>        <th class=\"blank level0\" ></th>        <th class=\"col_heading level0 col0\" >0</th>        <th class=\"col_heading level0 col1\" >1</th>        <th class=\"col_heading level0 col2\" >2</th>    </tr></thead><tbody>\n",
              "                <tr>\n",
              "                        <th id=\"T_f5794484_28bc_11eb_b976_0242ac1c0002level0_row0\" class=\"row_heading level0 row0\" >0</th>\n",
              "                        <td id=\"T_f5794484_28bc_11eb_b976_0242ac1c0002row0_col0\" class=\"data row0 col0\" >0.557884</td>\n",
              "                        <td id=\"T_f5794484_28bc_11eb_b976_0242ac1c0002row0_col1\" class=\"data row0 col1\" >0.032164</td>\n",
              "                        <td id=\"T_f5794484_28bc_11eb_b976_0242ac1c0002row0_col2\" class=\"data row0 col2\" >0.668227</td>\n",
              "            </tr>\n",
              "            <tr>\n",
              "                        <th id=\"T_f5794484_28bc_11eb_b976_0242ac1c0002level0_row1\" class=\"row_heading level0 row1\" >1</th>\n",
              "                        <td id=\"T_f5794484_28bc_11eb_b976_0242ac1c0002row1_col0\" class=\"data row1 col0\" >-0.306732</td>\n",
              "                        <td id=\"T_f5794484_28bc_11eb_b976_0242ac1c0002row1_col1\" class=\"data row1 col1\" >-0.591888</td>\n",
              "                        <td id=\"T_f5794484_28bc_11eb_b976_0242ac1c0002row1_col2\" class=\"data row1 col2\" >-0.595954</td>\n",
              "            </tr>\n",
              "            <tr>\n",
              "                        <th id=\"T_f5794484_28bc_11eb_b976_0242ac1c0002level0_row2\" class=\"row_heading level0 row2\" >2</th>\n",
              "                        <td id=\"T_f5794484_28bc_11eb_b976_0242ac1c0002row2_col0\" class=\"data row2 col0\" >0.458642</td>\n",
              "                        <td id=\"T_f5794484_28bc_11eb_b976_0242ac1c0002row2_col1\" class=\"data row2 col1\" >0.534522</td>\n",
              "                        <td id=\"T_f5794484_28bc_11eb_b976_0242ac1c0002row2_col2\" class=\"data row2 col2\" >0.152810</td>\n",
              "            </tr>\n",
              "            <tr>\n",
              "                        <th id=\"T_f5794484_28bc_11eb_b976_0242ac1c0002level0_row3\" class=\"row_heading level0 row3\" >3</th>\n",
              "                        <td id=\"T_f5794484_28bc_11eb_b976_0242ac1c0002row3_col0\" class=\"data row3 col0\" >-0.012608</td>\n",
              "                        <td id=\"T_f5794484_28bc_11eb_b976_0242ac1c0002row3_col1\" class=\"data row3 col1\" >-1.357109</td>\n",
              "                        <td id=\"T_f5794484_28bc_11eb_b976_0242ac1c0002row3_col2\" class=\"data row3 col2\" >0.490961</td>\n",
              "            </tr>\n",
              "            <tr>\n",
              "                        <th id=\"T_f5794484_28bc_11eb_b976_0242ac1c0002level0_row4\" class=\"row_heading level0 row4\" >4</th>\n",
              "                        <td id=\"T_f5794484_28bc_11eb_b976_0242ac1c0002row4_col0\" class=\"data row4 col0\" >-1.695787</td>\n",
              "                        <td id=\"T_f5794484_28bc_11eb_b976_0242ac1c0002row4_col1\" class=\"data row4 col1\" >-0.098891</td>\n",
              "                        <td id=\"T_f5794484_28bc_11eb_b976_0242ac1c0002row4_col2\" class=\"data row4 col2\" >-0.343470</td>\n",
              "            </tr>\n",
              "    </tbody></table>"
            ],
            "text/plain": [
              "<pandas.io.formats.style.Styler at 0x7f3b00340b00>"
            ]
          },
          "metadata": {
            "tags": []
          },
          "execution_count": 15
        }
      ]
    },
    {
      "cell_type": "code",
      "metadata": {
        "id": "2vs5DpqArcvL",
        "outputId": "69eb6949-7641-45a2-e21c-35c843cf3609",
        "colab": {
          "base_uri": "https://localhost:8080/",
          "height": 145
        }
      },
      "source": [
        "df.style.bar(subset=[1, 2], align='mid', color=['#d65f5f', '#5fba7d'])"
      ],
      "execution_count": 17,
      "outputs": [
        {
          "output_type": "execute_result",
          "data": {
            "text/html": [
              "<style  type=\"text/css\" >\n",
              "#T_0a65bd78_28bd_11eb_b976_0242ac1c0002row0_col1{\n",
              "            width:  10em;\n",
              "             height:  80%;\n",
              "            background:  linear-gradient(90deg, transparent 71.7%, #5fba7d 71.7%, #5fba7d 73.4%, transparent 73.4%);\n",
              "        }#T_0a65bd78_28bd_11eb_b976_0242ac1c0002row0_col2{\n",
              "            width:  10em;\n",
              "             height:  80%;\n",
              "            background:  linear-gradient(90deg, transparent 47.1%, #5fba7d 47.1%, #5fba7d 100.0%, transparent 100.0%);\n",
              "        }#T_0a65bd78_28bd_11eb_b976_0242ac1c0002row1_col1{\n",
              "            width:  10em;\n",
              "             height:  80%;\n",
              "            background:  linear-gradient(90deg, transparent 40.5%, #d65f5f 40.5%, #d65f5f 71.7%, transparent 71.7%);\n",
              "        }#T_0a65bd78_28bd_11eb_b976_0242ac1c0002row1_col2{\n",
              "            width:  10em;\n",
              "             height:  80%;\n",
              "            background:  linear-gradient(90deg,#d65f5f 47.1%, transparent 47.1%);\n",
              "        }#T_0a65bd78_28bd_11eb_b976_0242ac1c0002row2_col1{\n",
              "            width:  10em;\n",
              "             height:  80%;\n",
              "            background:  linear-gradient(90deg, transparent 71.7%, #5fba7d 71.7%, #5fba7d 100.0%, transparent 100.0%);\n",
              "        }#T_0a65bd78_28bd_11eb_b976_0242ac1c0002row2_col2{\n",
              "            width:  10em;\n",
              "             height:  80%;\n",
              "            background:  linear-gradient(90deg, transparent 47.1%, #5fba7d 47.1%, #5fba7d 59.2%, transparent 59.2%);\n",
              "        }#T_0a65bd78_28bd_11eb_b976_0242ac1c0002row3_col1{\n",
              "            width:  10em;\n",
              "             height:  80%;\n",
              "            background:  linear-gradient(90deg,#d65f5f 71.7%, transparent 71.7%);\n",
              "        }#T_0a65bd78_28bd_11eb_b976_0242ac1c0002row3_col2{\n",
              "            width:  10em;\n",
              "             height:  80%;\n",
              "            background:  linear-gradient(90deg, transparent 47.1%, #5fba7d 47.1%, #5fba7d 86.0%, transparent 86.0%);\n",
              "        }#T_0a65bd78_28bd_11eb_b976_0242ac1c0002row4_col1{\n",
              "            width:  10em;\n",
              "             height:  80%;\n",
              "            background:  linear-gradient(90deg, transparent 66.5%, #d65f5f 66.5%, #d65f5f 71.7%, transparent 71.7%);\n",
              "        }#T_0a65bd78_28bd_11eb_b976_0242ac1c0002row4_col2{\n",
              "            width:  10em;\n",
              "             height:  80%;\n",
              "            background:  linear-gradient(90deg, transparent 20.0%, #d65f5f 20.0%, #d65f5f 47.1%, transparent 47.1%);\n",
              "        }</style><table id=\"T_0a65bd78_28bd_11eb_b976_0242ac1c0002\" ><thead>    <tr>        <th class=\"blank level0\" ></th>        <th class=\"col_heading level0 col0\" >0</th>        <th class=\"col_heading level0 col1\" >1</th>        <th class=\"col_heading level0 col2\" >2</th>    </tr></thead><tbody>\n",
              "                <tr>\n",
              "                        <th id=\"T_0a65bd78_28bd_11eb_b976_0242ac1c0002level0_row0\" class=\"row_heading level0 row0\" >0</th>\n",
              "                        <td id=\"T_0a65bd78_28bd_11eb_b976_0242ac1c0002row0_col0\" class=\"data row0 col0\" >0.557884</td>\n",
              "                        <td id=\"T_0a65bd78_28bd_11eb_b976_0242ac1c0002row0_col1\" class=\"data row0 col1\" >0.032164</td>\n",
              "                        <td id=\"T_0a65bd78_28bd_11eb_b976_0242ac1c0002row0_col2\" class=\"data row0 col2\" >0.668227</td>\n",
              "            </tr>\n",
              "            <tr>\n",
              "                        <th id=\"T_0a65bd78_28bd_11eb_b976_0242ac1c0002level0_row1\" class=\"row_heading level0 row1\" >1</th>\n",
              "                        <td id=\"T_0a65bd78_28bd_11eb_b976_0242ac1c0002row1_col0\" class=\"data row1 col0\" >-0.306732</td>\n",
              "                        <td id=\"T_0a65bd78_28bd_11eb_b976_0242ac1c0002row1_col1\" class=\"data row1 col1\" >-0.591888</td>\n",
              "                        <td id=\"T_0a65bd78_28bd_11eb_b976_0242ac1c0002row1_col2\" class=\"data row1 col2\" >-0.595954</td>\n",
              "            </tr>\n",
              "            <tr>\n",
              "                        <th id=\"T_0a65bd78_28bd_11eb_b976_0242ac1c0002level0_row2\" class=\"row_heading level0 row2\" >2</th>\n",
              "                        <td id=\"T_0a65bd78_28bd_11eb_b976_0242ac1c0002row2_col0\" class=\"data row2 col0\" >0.458642</td>\n",
              "                        <td id=\"T_0a65bd78_28bd_11eb_b976_0242ac1c0002row2_col1\" class=\"data row2 col1\" >0.534522</td>\n",
              "                        <td id=\"T_0a65bd78_28bd_11eb_b976_0242ac1c0002row2_col2\" class=\"data row2 col2\" >0.152810</td>\n",
              "            </tr>\n",
              "            <tr>\n",
              "                        <th id=\"T_0a65bd78_28bd_11eb_b976_0242ac1c0002level0_row3\" class=\"row_heading level0 row3\" >3</th>\n",
              "                        <td id=\"T_0a65bd78_28bd_11eb_b976_0242ac1c0002row3_col0\" class=\"data row3 col0\" >-0.012608</td>\n",
              "                        <td id=\"T_0a65bd78_28bd_11eb_b976_0242ac1c0002row3_col1\" class=\"data row3 col1\" >-1.357109</td>\n",
              "                        <td id=\"T_0a65bd78_28bd_11eb_b976_0242ac1c0002row3_col2\" class=\"data row3 col2\" >0.490961</td>\n",
              "            </tr>\n",
              "            <tr>\n",
              "                        <th id=\"T_0a65bd78_28bd_11eb_b976_0242ac1c0002level0_row4\" class=\"row_heading level0 row4\" >4</th>\n",
              "                        <td id=\"T_0a65bd78_28bd_11eb_b976_0242ac1c0002row4_col0\" class=\"data row4 col0\" >-1.695787</td>\n",
              "                        <td id=\"T_0a65bd78_28bd_11eb_b976_0242ac1c0002row4_col1\" class=\"data row4 col1\" >-0.098891</td>\n",
              "                        <td id=\"T_0a65bd78_28bd_11eb_b976_0242ac1c0002row4_col2\" class=\"data row4 col2\" >-0.343470</td>\n",
              "            </tr>\n",
              "    </tbody></table>"
            ],
            "text/plain": [
              "<pandas.io.formats.style.Styler at 0x7f3b001d0400>"
            ]
          },
          "metadata": {
            "tags": []
          },
          "execution_count": 17
        }
      ]
    },
    {
      "cell_type": "markdown",
      "metadata": {
        "id": "AHtovJxtq_k5"
      },
      "source": [
        "# Pandas sub-total"
      ]
    },
    {
      "cell_type": "code",
      "metadata": {
        "id": "fGomLIAZqVCU",
        "outputId": "93fa544b-4db7-4c54-8cdb-0f47ddedd935",
        "colab": {
          "base_uri": "https://localhost:8080/",
          "height": 173
        }
      },
      "source": [
        "df = pd.DataFrame(dict(A=[2,6,3],\n",
        "                       B=[2,2,6], \n",
        "                       C=[3,2,3]))\n",
        "\n",
        "df['col_total']     = df.apply(lambda x: x.sum(), axis=1)\n",
        "df.loc['row_total'] = df.apply(lambda x: x.sum())\n",
        "\n",
        "df"
      ],
      "execution_count": 10,
      "outputs": [
        {
          "output_type": "execute_result",
          "data": {
            "text/html": [
              "<div>\n",
              "<style scoped>\n",
              "    .dataframe tbody tr th:only-of-type {\n",
              "        vertical-align: middle;\n",
              "    }\n",
              "\n",
              "    .dataframe tbody tr th {\n",
              "        vertical-align: top;\n",
              "    }\n",
              "\n",
              "    .dataframe thead th {\n",
              "        text-align: right;\n",
              "    }\n",
              "</style>\n",
              "<table border=\"1\" class=\"dataframe\">\n",
              "  <thead>\n",
              "    <tr style=\"text-align: right;\">\n",
              "      <th></th>\n",
              "      <th>A</th>\n",
              "      <th>B</th>\n",
              "      <th>C</th>\n",
              "      <th>col_total</th>\n",
              "    </tr>\n",
              "  </thead>\n",
              "  <tbody>\n",
              "    <tr>\n",
              "      <th>0</th>\n",
              "      <td>2</td>\n",
              "      <td>2</td>\n",
              "      <td>3</td>\n",
              "      <td>7</td>\n",
              "    </tr>\n",
              "    <tr>\n",
              "      <th>1</th>\n",
              "      <td>6</td>\n",
              "      <td>2</td>\n",
              "      <td>2</td>\n",
              "      <td>10</td>\n",
              "    </tr>\n",
              "    <tr>\n",
              "      <th>2</th>\n",
              "      <td>3</td>\n",
              "      <td>6</td>\n",
              "      <td>3</td>\n",
              "      <td>12</td>\n",
              "    </tr>\n",
              "    <tr>\n",
              "      <th>row_total</th>\n",
              "      <td>11</td>\n",
              "      <td>10</td>\n",
              "      <td>8</td>\n",
              "      <td>29</td>\n",
              "    </tr>\n",
              "  </tbody>\n",
              "</table>\n",
              "</div>"
            ],
            "text/plain": [
              "            A   B  C  col_total\n",
              "0           2   2  3          7\n",
              "1           6   2  2         10\n",
              "2           3   6  3         12\n",
              "row_total  11  10  8         29"
            ]
          },
          "metadata": {
            "tags": []
          },
          "execution_count": 10
        }
      ]
    },
    {
      "cell_type": "markdown",
      "metadata": {
        "id": "6KDekl8Dp26A"
      },
      "source": [
        "# Pandas max shown"
      ]
    },
    {
      "cell_type": "code",
      "metadata": {
        "id": "m7algnDWp7Ax"
      },
      "source": [
        "pd.options.display.max_columns = 50  # None -> No Restrictions\n",
        "pd.options.display.max_rows = 200    # None -> Be careful with this \n",
        "pd.options.display.max_colwidth = 100\n",
        "pd.options.display.precision = 3"
      ],
      "execution_count": null,
      "outputs": []
    },
    {
      "cell_type": "markdown",
      "metadata": {
        "id": "98SR693KQAgn"
      },
      "source": [
        "# Pycaret Auto ML"
      ]
    },
    {
      "cell_type": "code",
      "metadata": {
        "id": "Mg1GirZWwcIw"
      },
      "source": [
        "%%capture\n",
        "! pip install pycaret==2.2"
      ],
      "execution_count": null,
      "outputs": []
    },
    {
      "cell_type": "code",
      "metadata": {
        "id": "3RgwY_JsQC1w"
      },
      "source": [
        "# loading dataset \n",
        "from pycaret.datasets import get_data \n",
        "data = get_data('diabetes') \n",
        "\n",
        "# initializing setup \n",
        "from pycaret.classification import *\n",
        "clf1 = setup(data, target = 'Class variable') \n",
        "\n",
        "# compare all baseline models and select top 5\n",
        "top5 = compare_models(n_select = 5) \n",
        "\n",
        "# tune top 5 base models\n",
        "tuned_top5 = [tune_model(i) for i in top5]\n",
        "\n",
        "# ensemble top 5 tuned models\n",
        "bagged_top5 = [ensemble_model(i) for i in tuned_top5]\n",
        "\n",
        "# blend top 5 base models \n",
        "blender = blend_models(estimator_list = top5) \n",
        "\n",
        "# select best model \n",
        "best = automl(optimize = 'Recall')"
      ],
      "execution_count": null,
      "outputs": []
    },
    {
      "cell_type": "markdown",
      "metadata": {
        "id": "Xk6CdyWawHtb"
      },
      "source": [
        "# Weights and Biases [Keras ingeration]"
      ]
    },
    {
      "cell_type": "code",
      "metadata": {
        "id": "Madjj2lnwKZ5"
      },
      "source": [
        "%%capture\n",
        "!pip install wandb"
      ],
      "execution_count": null,
      "outputs": []
    },
    {
      "cell_type": "code",
      "metadata": {
        "id": "dFxrgm3lKqp0"
      },
      "source": [
        "import wandb\n",
        "from wandb.keras import WandbCallback\n",
        "\n",
        "!wandb login"
      ],
      "execution_count": null,
      "outputs": []
    },
    {
      "cell_type": "code",
      "metadata": {
        "id": "YcnpN4BWKrRk"
      },
      "source": [
        "# Initialize wandb with your project name\n",
        "run = wandb.init(project='my-keras-integration',\n",
        "                 config={  # and include hyperparameters and metadata\n",
        "                     \"learning_rate\": 0.005,\n",
        "                     \"epochs\": 5,\n",
        "                     \"batch_size\": 64,\n",
        "                     \"loss_function\": \"sparse_categorical_crossentropy\",\n",
        "                     \"architecture\": \"CNN\",\n",
        "                     \"dataset\": \"CIFAR-10\"\n",
        "                 })\n",
        "config = wandb.config  # We'll use this to configure our experiment"
      ],
      "execution_count": null,
      "outputs": []
    },
    {
      "cell_type": "code",
      "metadata": {
        "id": "VgYdGjnLK_Gt"
      },
      "source": [
        "# this cell contain keras oriented code\n",
        "# Initialize model like you usually do.\n",
        "tf.keras.backend.clear_session()\n",
        "model = Model()\n",
        "model.summary()\n",
        "\n",
        "# Compile model like you usually do.\n",
        "# Notice that we use config, so our metadata matches what gets executed\n",
        "optimizer = tf.keras.optimizers.Adam(config.learning_rate) \n",
        "model.compile(optimizer, config.loss_function, metrics=['acc'])"
      ],
      "execution_count": null,
      "outputs": []
    },
    {
      "cell_type": "code",
      "metadata": {
        "id": "AkXXeKpAKyFw"
      },
      "source": [
        "# We train with our beloved model.fit\n",
        "# Notice WandbCallback is used as a regular callback\n",
        "# We again use config\n",
        "_ = model.fit(x_train, y_train,\n",
        "          epochs=config.epochs, \n",
        "          batch_size=config.batch_size,\n",
        "          validation_data=(x_test, y_test),\n",
        "          callbacks=[WandbCallback()])"
      ],
      "execution_count": null,
      "outputs": []
    },
    {
      "cell_type": "code",
      "metadata": {
        "id": "Nw2a8B-ZLa32"
      },
      "source": [
        "run.join()"
      ],
      "execution_count": null,
      "outputs": []
    },
    {
      "cell_type": "markdown",
      "metadata": {
        "id": "EJGriYLi_pFP"
      },
      "source": [
        "# Jupyter notebook behavior"
      ]
    },
    {
      "cell_type": "code",
      "metadata": {
        "id": "Q9DFTqksALZn"
      },
      "source": [
        "# show multible output on one cell\n",
        "from IPython.core.interactiveshell import InteractiveShell\n",
        "InteractiveShell.ast_node_interactivity = \"all\"\n",
        "\n",
        "a = [1,4,6,1]\n",
        "b = [2,4]\n",
        "\n",
        "a\n",
        "b"
      ],
      "execution_count": 25,
      "outputs": []
    },
    {
      "cell_type": "markdown",
      "metadata": {
        "id": "1Kb80gLQCbQQ"
      },
      "source": [
        "# Table of Content"
      ]
    },
    {
      "cell_type": "markdown",
      "metadata": {
        "id": "eGuKZb_lFZwp"
      },
      "source": [
        "* [Dataset Hasil PCA](#Dataset-Hasil-PCA)\n",
        "* [Membangun Model Naïve Bayes dengan WEKA](#Membangun-Model-Naïve-Bayes-dengan-Weka)\n",
        "    * [Meningkatkan Kinerja Model dengan WEKA](#Meningkatkan-Kinerja-Model-dengan-Weka)\n",
        "* [Membangun Model Naïve Bayes dengan Python](#Membangun-Model-Naïve-Bayes-dengan-Python)\n",
        "    * [Meningkatkan Kinerja Model dengan Python](#Meningkatkan-Kinerja-Model-dengan-Python)\n",
        "* [Kesimpulan](#Kesimpulan)"
      ]
    },
    {
      "cell_type": "code",
      "metadata": {
        "id": "Upb23LKAF9T5"
      },
      "source": [
        "# ### Table of content markdown\n",
        "# * [Dataset Hasil PCA](#Dataset-Hasil-PCA)\n",
        "# * [Membangun Model Naïve Bayes dengan WEKA](#Membangun-Model-Naïve-Bayes-dengan-Weka)\n",
        "#     * [Meningkatkan Kinerja Model dengan WEKA](#Meningkatkan-Kinerja-Model-dengan-Weka)\n",
        "# * [Membangun Model Naïve Bayes dengan Python](#Membangun-Model-Naïve-Bayes-dengan-Python)\n",
        "#     * [Meningkatkan Kinerja Model dengan Python](#Meningkatkan-Kinerja-Model-dengan-Python)\n",
        "# * [Kesimpulan](#Kesimpulan)"
      ],
      "execution_count": null,
      "outputs": []
    },
    {
      "cell_type": "markdown",
      "metadata": {
        "id": "9jJ9lqWXC7-k"
      },
      "source": [
        "# Retina res plot"
      ]
    },
    {
      "cell_type": "code",
      "metadata": {
        "id": "YWH21qDLC-yx",
        "outputId": "94169d42-5755-437c-f689-4c140d1315fb",
        "colab": {
          "base_uri": "https://localhost:8080/",
          "height": 276
        }
      },
      "source": [
        "%config InlineBackend.figure_format = 'retina'\n",
        "\n",
        "import matplotlib.pyplot as plt\n",
        "%matplotlib inline\n",
        "\n",
        "x = range(1000)\n",
        "y = [i ** 2 for i in x]\n",
        "\n",
        "plt.plot(x,y)\n",
        "plt.show;"
      ],
      "execution_count": 1,
      "outputs": [
        {
          "output_type": "display_data",
          "data": {
            "image/png": "[encoded data removed]",
            "text/plain": [
              "<Figure size 432x288 with 1 Axes>"
            ]
          },
          "metadata": {
            "tags": [],
            "needs_background": "light"
          }
        }
      ]
    }
  ]
}