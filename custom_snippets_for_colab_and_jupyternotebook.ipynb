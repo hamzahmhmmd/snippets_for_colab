{
  "nbformat": 4,
  "nbformat_minor": 0,
  "metadata": {
    "colab": {
      "name": "custom_snippets_for_colab_and_jupyternotebook.ipynb",
      "provenance": [],
      "authorship_tag": "ABX9TyOjfHJlG6V5OSsJcbT0HYj+",
      "include_colab_link": true
    },
    "kernelspec": {
      "name": "python3",
      "display_name": "Python 3"
    }
  },
  "cells": [
    {
      "cell_type": "markdown",
      "metadata": {
        "id": "view-in-github",
        "colab_type": "text"
      },
      "source": [
        "<a href=\"https://colab.research.google.com/github/hamzahmhmmd/snippets_for_colab/blob/main/custom_snippets_for_colab_and_jupyternotebook.ipynb\" target=\"_parent\"><img src=\"https://colab.research.google.com/assets/colab-badge.svg\" alt=\"Open In Colab\"/></a>"
      ]
    },
    {
      "cell_type": "markdown",
      "metadata": {
        "id": "yAALIeiPgjy1"
      },
      "source": [
        "# Open in colab\n",
        "<a href=\"https://colab.research.google.com/github/hamzahmhmmd/snippets_for_colab/blob/main/custom_snippets_for_colab_and_jupyternotebook.ipynb\" target=\"_parent\"><img src=\"https://colab.research.google.com/assets/colab-badge.svg\" alt=\"Open In Colab\"/></a>"
      ]
    },
    {
      "cell_type": "code",
      "metadata": {
        "id": "xfkA2fi4gnyW"
      },
      "source": [
        "<a href=\"https://colab.research.google.com/github/hamzahmhmmd/snippets_for_colab/blob/main/custom_snippets_for_colab_and_jupyternotebook.ipynb\" target=\"_parent\"><img src=\"https://colab.research.google.com/assets/colab-badge.svg\" alt=\"Open In Colab\"/></a>"
      ],
      "execution_count": null,
      "outputs": []
    },
    {
      "cell_type": "markdown",
      "metadata": {
        "id": "vHIB5S5kEU3k"
      },
      "source": [
        "# Http server webapp"
      ]
    },
    {
      "cell_type": "code",
      "metadata": {
        "id": "5PXakhVgCSun",
        "outputId": "6ca7d1c1-1e06-4fe7-815a-32ea84063e76",
        "colab": {
          "base_uri": "https://localhost:8080/",
          "height": 35
        }
      },
      "source": [
        "from google.colab.output import eval_js\n",
        "eval_js(\"google.colab.kernel.proxyPort(8000)\")"
      ],
      "execution_count": null,
      "outputs": [
        {
          "output_type": "execute_result",
          "data": {
            "application/vnd.google.colaboratory.intrinsic+json": {
              "type": "string"
            },
            "text/plain": [
              "'https://jjcnen5e1sg-496ff2e9c6d22116-8000-colab.googleusercontent.com/'"
            ]
          },
          "metadata": {
            "tags": []
          },
          "execution_count": 1
        }
      ]
    },
    {
      "cell_type": "code",
      "metadata": {
        "id": "sZaVyhaxEDs4",
        "outputId": "8a22bfb5-b27b-478a-e212-6d265cdf546b",
        "colab": {
          "base_uri": "https://localhost:8080/"
        }
      },
      "source": [
        "! python -m http.server 8000"
      ],
      "execution_count": null,
      "outputs": [
        {
          "output_type": "stream",
          "text": [
            "Serving HTTP on 0.0.0.0 port 8000 (http://0.0.0.0:8000/) ...\n",
            "127.0.0.1 - - [17/Nov/2020 02:43:38] \"GET / HTTP/1.1\" 200 -\n",
            "127.0.0.1 - - [17/Nov/2020 02:43:39] code 404, message File not found\n",
            "127.0.0.1 - - [17/Nov/2020 02:43:39] \"GET /favicon.ico HTTP/1.1\" 404 -\n",
            "127.0.0.1 - - [17/Nov/2020 02:43:41] \"GET /sample_data/ HTTP/1.1\" 200 -\n",
            "127.0.0.1 - - [17/Nov/2020 02:43:42] code 404, message File not found\n",
            "127.0.0.1 - - [17/Nov/2020 02:43:42] \"GET /favicon.ico HTTP/1.1\" 404 -\n",
            "127.0.0.1 - - [17/Nov/2020 02:43:50] \"GET /sample_data/README.md HTTP/1.1\" 200 -\n",
            "127.0.0.1 - - [17/Nov/2020 02:43:51] code 404, message File not found\n",
            "127.0.0.1 - - [17/Nov/2020 02:43:51] \"GET /favicon.ico HTTP/1.1\" 404 -\n",
            "\n",
            "Keyboard interrupt received, exiting.\n",
            "^C\n"
          ],
          "name": "stdout"
        }
      ]
    },
    {
      "cell_type": "markdown",
      "metadata": {
        "id": "wacBkieaEu3U"
      },
      "source": [
        "# Flask ngrok webapp"
      ]
    },
    {
      "cell_type": "code",
      "metadata": {
        "id": "bfM6_TFuE6yI"
      },
      "source": [
        "!pip install flask-ngrok"
      ],
      "execution_count": null,
      "outputs": []
    },
    {
      "cell_type": "code",
      "metadata": {
        "id": "6moB0DSCE9qI"
      },
      "source": [
        "# flask_ngrok_example.py\n",
        "from flask import Flask\n",
        "from flask_ngrok import run_with_ngrok\n",
        "\n",
        "app = Flask(__name__)\n",
        "run_with_ngrok(app)  # Start ngrok when app is run\n",
        "\n",
        "@app.route(\"/\")\n",
        "def hello():\n",
        "    return \"Hello World!\"\n",
        "\n",
        "if __name__ == '__main__':\n",
        "    app.run()  # If address is in use, may need to terminate other sessions:\n",
        "               # Runtime > Manage Sessions > Terminate Other Sessions"
      ],
      "execution_count": null,
      "outputs": []
    },
    {
      "cell_type": "markdown",
      "metadata": {
        "id": "DvBmQ-vnFXBn"
      },
      "source": [
        "# Add more RAM \n",
        "[increased notebook 1](https://colab.research.google.com/drive/1EgxSYbpi0mOkIXFsUQuFdnawwsAirl-T?usp=sharing)\n",
        "[increased notebook 2](https://colab.research.google.com/drive/1GqZu6zmCy2vMNMZqO78DDuHvwv_9vJcp?usp=sharing)"
      ]
    },
    {
      "cell_type": "code",
      "metadata": {
        "id": "LFX8iFu9VtiQ"
      },
      "source": [
        "https://colab.research.google.com/drive/1EgxSYbpi0mOkIXFsUQuFdnawwsAirl-T?usp=sharing\n",
        "https://colab.research.google.com/drive/1GqZu6zmCy2vMNMZqO78DDuHvwv_9vJcp?usp=sharing"
      ],
      "execution_count": null,
      "outputs": []
    },
    {
      "cell_type": "markdown",
      "metadata": {
        "id": "EhKpO-EGZq2P"
      },
      "source": [
        "# Longer session"
      ]
    },
    {
      "cell_type": "code",
      "metadata": {
        "id": "NGDW1b7qZwzX"
      },
      "source": [
        "# write this javasctipt on developer console\n",
        "# function KeepClicking(){\n",
        "#    console.log(\"Clicking\");\n",
        "#    document.querySelector(\"colab-toolbar-button#connect\").click()\n",
        "# }setInterval(KeepClicking,60000)"
      ],
      "execution_count": null,
      "outputs": []
    },
    {
      "cell_type": "markdown",
      "metadata": {
        "id": "x-UKy15kFm7v"
      },
      "source": [
        "# Install Miniconda"
      ]
    },
    {
      "cell_type": "code",
      "metadata": {
        "id": "DqPcpskDFqaR"
      },
      "source": [
        "! wget https://repo.anaconda.com/miniconda/Miniconda3-py37_4.8.2-Linux-x86_64.sh\n",
        "! chmod +x Miniconda3-py37_4.8.2-Linux-x86_64.sh\n",
        "! bash ./Miniconda3-py37_4.8.2-Linux-x86_64.sh -b -f -p /usr/local\n",
        "import sys\n",
        "sys.path.append('/usr/local/lib/python3.7/site-packages/')"
      ],
      "execution_count": null,
      "outputs": []
    },
    {
      "cell_type": "code",
      "metadata": {
        "id": "hhVQpH_7STCx"
      },
      "source": [
        "! conda install -c rdkit rdkit -y"
      ],
      "execution_count": null,
      "outputs": []
    },
    {
      "cell_type": "markdown",
      "metadata": {
        "id": "aPqX9KdwE-Vf"
      },
      "source": [
        "# R magic command"
      ]
    },
    {
      "cell_type": "code",
      "metadata": {
        "id": "9QZOvg8nFZD-"
      },
      "source": [
        "# activate R magic\n",
        "%load_ext rpy2.ipython"
      ],
      "execution_count": null,
      "outputs": []
    },
    {
      "cell_type": "code",
      "metadata": {
        "id": "zOZaGQ3gR6ng"
      },
      "source": [
        "%%R\n",
        "x <- 42\n",
        "print(x)"
      ],
      "execution_count": null,
      "outputs": []
    },
    {
      "cell_type": "markdown",
      "metadata": {
        "id": "uirnH_ehZDlF"
      },
      "source": [
        "# Delete pandas dataframe"
      ]
    },
    {
      "cell_type": "code",
      "metadata": {
        "id": "oHDmVgmNW_f-",
        "outputId": "5b6ea219-bbe5-453d-deed-048251019ec0",
        "colab": {
          "base_uri": "https://localhost:8080/"
        }
      },
      "source": [
        "import gc\n",
        "import pandas as pd\n",
        "\n",
        "df = pd.read_csv('sample_data/mnist_test.csv')\n",
        "\n",
        "# hapus dataframe df\n",
        "del df\n",
        "gc.collect()"
      ],
      "execution_count": null,
      "outputs": [
        {
          "output_type": "execute_result",
          "data": {
            "text/plain": [
              "144"
            ]
          },
          "metadata": {
            "tags": []
          },
          "execution_count": 4
        }
      ]
    },
    {
      "cell_type": "markdown",
      "metadata": {
        "id": "hyXH0qZ4Pjy8"
      },
      "source": [
        "# Pandas styling"
      ]
    },
    {
      "cell_type": "code",
      "metadata": {
        "id": "3xjrdMw3PjLi"
      },
      "source": [
        ""
      ],
      "execution_count": null,
      "outputs": []
    },
    {
      "cell_type": "markdown",
      "metadata": {
        "id": "98SR693KQAgn"
      },
      "source": [
        "# Pycaret Auto ML"
      ]
    },
    {
      "cell_type": "code",
      "metadata": {
        "id": "3RgwY_JsQC1w"
      },
      "source": [
        ""
      ],
      "execution_count": null,
      "outputs": []
    }
  ]
}